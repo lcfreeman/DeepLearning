{
 "cells": [
  {
   "cell_type": "code",
   "execution_count": 1,
   "id": "cc061aed",
   "metadata": {},
   "outputs": [],
   "source": [
    "import torch\n",
    "import torch.nn as nn\n",
    "import torch.optim as optim\n",
    "import pandas as pd\n",
    "from torch.utils.tensorboard import SummaryWriter"
   ]
  },
  {
   "cell_type": "code",
   "execution_count": 2,
   "id": "8ee3a663",
   "metadata": {},
   "outputs": [],
   "source": [
    "device = torch.device('mps' if torch.backends.mps.is_available() else 'cpu')"
   ]
  },
  {
   "cell_type": "code",
   "execution_count": 3,
   "id": "a43ea297",
   "metadata": {
    "scrolled": true
   },
   "outputs": [],
   "source": [
    "data = pd.read_csv('./data/GDP.csv')\n",
    "data.set_index('date',inplace=True)\n",
    "base = data.loc[2000]\n",
    "scaled_data = data/base\n",
    "years = data.index\n",
    "years = list(map(int,years))\n",
    "inputs = torch.tensor(scaled_data.iloc[:-1].values, dtype=torch.float32)\n",
    "labels = torch.tensor(scaled_data.iloc[1:].values, dtype=torch.float32)\n",
    "train_sequence = sum([i>=1970 and i<=2000 for i in years])\n",
    "test_sequence = sum([i>2000 for i in years])\n",
    "train_data = inputs[:train_sequence]\n",
    "train_label = labels[:train_sequence]\n",
    "test_data = inputs[train_sequence:]\n",
    "test_label = labels[train_sequence:]"
   ]
  },
  {
   "cell_type": "code",
   "execution_count": 4,
   "id": "75aeac72",
   "metadata": {},
   "outputs": [],
   "source": [
    "class Net(nn.Module):\n",
    "    def __init__(self,input_size,hidden_size):\n",
    "        super(Net,self).__init__()\n",
    "        self.rnn = nn.LSTM(input_size,hidden_size)\n",
    "        self.fc = nn.Linear(hidden_size,1)\n",
    "    def forward(self,X):\n",
    "        X = X[:,:,None]\n",
    "        X, _ = self.rnn(X)\n",
    "        X = self.fc(X)\n",
    "        X = X[:,:,0]\n",
    "        return X"
   ]
  },
  {
   "cell_type": "code",
   "execution_count": 5,
   "id": "df965f61",
   "metadata": {},
   "outputs": [
    {
     "data": {
      "text/plain": [
       "MSELoss()"
      ]
     },
     "execution_count": 5,
     "metadata": {},
     "output_type": "execute_result"
    }
   ],
   "source": [
    "model = Net(input_size=1,hidden_size=5)\n",
    "optimizer = optim.Adam(model.parameters(), lr=0.001)\n",
    "criterion = nn.MSELoss()\n",
    "model.to(device)\n",
    "criterion.to(device)"
   ]
  },
  {
   "cell_type": "code",
   "execution_count": 6,
   "id": "c35ac801",
   "metadata": {
    "scrolled": true
   },
   "outputs": [
    {
     "name": "stdout",
     "output_type": "stream",
     "text": [
      "1000/50000 lr=0.001 train_loss=0.007370236795395613\n",
      "2000/50000 lr=0.001 train_loss=0.002797957742586732\n",
      "3000/50000 lr=0.001 train_loss=0.0020442563109099865\n",
      "4000/50000 lr=0.001 train_loss=0.0015029150526970625\n",
      "5000/50000 lr=0.001 train_loss=0.0011940557742491364\n",
      "6000/50000 lr=0.001 train_loss=0.0008794350433163345\n",
      "7000/50000 lr=0.001 train_loss=0.0006661438383162022\n",
      "8000/50000 lr=0.001 train_loss=0.0006025622133165598\n",
      "9000/50000 lr=0.001 train_loss=0.0005734245642088354\n",
      "10000/50000 lr=0.001 train_loss=0.0005474589415825903\n",
      "10000/50000 test_loss=0.12449415773153305\n",
      "11000/50000 lr=0.001 train_loss=0.0005186108755879104\n",
      "12000/50000 lr=0.001 train_loss=0.0005030724569223821\n",
      "13000/50000 lr=0.001 train_loss=0.0004820883914362639\n",
      "14000/50000 lr=0.001 train_loss=0.00046593527076765895\n",
      "15000/50000 lr=0.001 train_loss=0.0004541445814538747\n",
      "16000/50000 lr=0.001 train_loss=0.0004427362291608006\n",
      "17000/50000 lr=0.001 train_loss=0.0004451455897651613\n",
      "18000/50000 lr=0.001 train_loss=0.000441920681623742\n",
      "19000/50000 lr=0.001 train_loss=0.0004113618051633239\n",
      "20000/50000 lr=0.001 train_loss=0.00040187229751609266\n",
      "20000/50000 test_loss=0.20427167415618896\n",
      "21000/50000 lr=0.001 train_loss=0.0003933270345441997\n",
      "22000/50000 lr=0.001 train_loss=0.0003849540662486106\n",
      "23000/50000 lr=0.001 train_loss=0.0003775036020670086\n",
      "24000/50000 lr=0.001 train_loss=0.00037031617830507457\n",
      "25000/50000 lr=0.001 train_loss=0.0003632211883086711\n",
      "26000/50000 lr=0.001 train_loss=0.000356560165528208\n",
      "27000/50000 lr=0.001 train_loss=0.00035201344871893525\n",
      "28000/50000 lr=0.001 train_loss=0.0003465953632257879\n",
      "29000/50000 lr=0.001 train_loss=0.0003383953298907727\n",
      "30000/50000 lr=0.001 train_loss=0.0003420027205720544\n",
      "30000/50000 test_loss=0.30456680059432983\n",
      "31000/50000 lr=0.001 train_loss=0.0003287909203208983\n",
      "32000/50000 lr=0.001 train_loss=0.00032392324646934867\n",
      "33000/50000 lr=0.001 train_loss=0.00031970030977390707\n",
      "34000/50000 lr=0.001 train_loss=0.0003158535109832883\n",
      "35000/50000 lr=0.001 train_loss=0.00031201160163618624\n",
      "36000/50000 lr=0.001 train_loss=0.00031899494933895767\n",
      "37000/50000 lr=0.001 train_loss=0.0003049960359930992\n",
      "38000/50000 lr=0.001 train_loss=0.0003011574153788388\n",
      "39000/50000 lr=0.001 train_loss=0.00029773314599879086\n",
      "40000/50000 lr=0.001 train_loss=0.00029417534824460745\n",
      "40000/50000 test_loss=0.3636128306388855\n",
      "41000/50000 lr=0.001 train_loss=0.0002907228481490165\n",
      "42000/50000 lr=0.001 train_loss=0.00032385895610786974\n",
      "43000/50000 lr=0.001 train_loss=0.0002856063947547227\n",
      "44000/50000 lr=0.001 train_loss=0.00028097437461838126\n",
      "45000/50000 lr=0.001 train_loss=0.0002774075837805867\n",
      "46000/50000 lr=0.001 train_loss=0.00027421078993938863\n",
      "47000/50000 lr=0.001 train_loss=0.000270811899099499\n",
      "48000/50000 lr=0.001 train_loss=0.0002674909483175725\n",
      "49000/50000 lr=0.001 train_loss=0.0002642128383740783\n",
      "50000/50000 lr=0.001 train_loss=0.00026093830820173025\n",
      "50000/50000 test_loss=0.4099348485469818\n"
     ]
    }
   ],
   "source": [
    "steps = 50000\n",
    "#writer = SummaryWriter(log_dir='./log')\n",
    "#scheduler = optim.lr_scheduler.StepLR(optimizer,step_size=1000,gamma=0.1)\n",
    "for step in range(steps):\n",
    "    # train\n",
    "    train_data, train_label = train_data.to(device), train_label.to(device)\n",
    "    optimizer.zero_grad()\n",
    "    train_output = model(train_data)\n",
    "    train_loss = criterion(train_output,train_label)\n",
    "    train_loss.backward()\n",
    "    optimizer.step()\n",
    "    for para_group in optimizer.param_groups:\n",
    "        current_lr = para_group['lr']\n",
    "    if (step+1)%1000==0:\n",
    "        print(f'{step+1}/{steps} lr={current_lr} train_loss={train_loss.item()}')\n",
    "        #writer.add_scalar('Loss/train',train_loss.item(),step+1)\n",
    "    #scheduler.step()\n",
    "    \n",
    "    # eval\n",
    "    if (step+1)%10000==0:\n",
    "        model.eval()\n",
    "        with torch.no_grad():\n",
    "            test_data, test_label = test_data.to(device), test_label.to(device)\n",
    "            test_output = model(test_data)\n",
    "            test_loss = criterion(test_output,test_label)\n",
    "            print(f'{step+1}/{steps} test_loss={test_loss.item()}')\n",
    "            #writer.add_scalar('Loss/test',test_loss.item(),step+1)"
   ]
  },
  {
   "cell_type": "code",
   "execution_count": null,
   "id": "9062347a",
   "metadata": {},
   "outputs": [],
   "source": []
  }
 ],
 "metadata": {
  "kernelspec": {
   "display_name": "Python [conda env:aloha]",
   "language": "python",
   "name": "conda-env-aloha-py"
  },
  "language_info": {
   "codemirror_mode": {
    "name": "ipython",
    "version": 3
   },
   "file_extension": ".py",
   "mimetype": "text/x-python",
   "name": "python",
   "nbconvert_exporter": "python",
   "pygments_lexer": "ipython3",
   "version": "3.9.16"
  }
 },
 "nbformat": 4,
 "nbformat_minor": 5
}
