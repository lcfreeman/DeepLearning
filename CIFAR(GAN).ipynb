{
 "cells": [
  {
   "cell_type": "code",
   "execution_count": 1,
   "id": "f0ddb9a0",
   "metadata": {},
   "outputs": [],
   "source": [
    "import torch\n",
    "import torch.nn as nn\n",
    "import torch.optim as optim\n",
    "from torchvision import datasets,transforms\n",
    "from torch.utils.data import DataLoader"
   ]
  },
  {
   "cell_type": "code",
   "execution_count": 2,
   "id": "bd37b2c2",
   "metadata": {},
   "outputs": [],
   "source": [
    "device = torch.device('mps' if torch.backends.mps.is_available() else 'cpu')"
   ]
  },
  {
   "cell_type": "code",
   "execution_count": 3,
   "id": "50578778",
   "metadata": {},
   "outputs": [],
   "source": [
    "batch_size=64\n",
    "data = datasets.CIFAR10(root='./data/',download=False,transform=transforms.ToTensor())\n",
    "data_loader = DataLoader(dataset=data,batch_size=batch_size,shuffle=True)"
   ]
  },
  {
   "cell_type": "code",
   "execution_count": 4,
   "id": "4298e840",
   "metadata": {},
   "outputs": [],
   "source": [
    "latent_size = 64\n",
    "dfeatures = 64\n",
    "gfeatures = 64\n",
    "nchannels = 3\n",
    "DNet = nn.Sequential(nn.Conv2d(nchannels,dfeatures,kernel_size=4,stride=2,padding=1),\n",
    "                     nn.LeakyReLU(0.2),\n",
    "                     nn.Conv2d(dfeatures,2*dfeatures,kernel_size=4,stride=2,padding=1,bias=False),\n",
    "                     nn.BatchNorm2d(2*dfeatures),\n",
    "                     nn.LeakyReLU(0.2),\n",
    "                     nn.Conv2d(2*dfeatures,4*dfeatures,kernel_size=4,stride=2,padding=1,bias=False),\n",
    "                     nn.BatchNorm2d(4*dfeatures),\n",
    "                     nn.LeakyReLU(0.2),\n",
    "                     nn.Conv2d(4*dfeatures,1,kernel_size=4))\n",
    "GNet = nn.Sequential(nn.ConvTranspose2d(latent_size,4*gfeatures,kernel_size=4,bias=False),\n",
    "                     nn.BatchNorm2d(4*gfeatures),\n",
    "                     nn.ReLU(),\n",
    "                     nn.ConvTranspose2d(4*gfeatures,2*gfeatures,kernel_size=4,stride=2,padding=1,bias=False),\n",
    "                     nn.BatchNorm2d(2*gfeatures),\n",
    "                     nn.ReLU(),\n",
    "                     nn.ConvTranspose2d(2*gfeatures,gfeatures,kernel_size=4,stride=2,padding=1,bias=False),\n",
    "                     nn.BatchNorm2d(gfeatures),\n",
    "                     nn.ReLU(),\n",
    "                     nn.ConvTranspose2d(gfeatures,nchannels,kernel_size=4,stride=2,padding=1))                     "
   ]
  },
  {
   "cell_type": "code",
   "execution_count": 5,
   "id": "03496a08",
   "metadata": {},
   "outputs": [
    {
     "data": {
      "text/plain": [
       "BCEWithLogitsLoss()"
      ]
     },
     "execution_count": 5,
     "metadata": {},
     "output_type": "execute_result"
    }
   ],
   "source": [
    "criterion = nn.BCEWithLogitsLoss()\n",
    "doptimizer = optim.Adam(DNet.parameters(),lr=0.001,betas=(0,0.99))\n",
    "goptimizer = optim.Adam(GNet.parameters(),lr=0.001,betas=(0,0.99))\n",
    "DNet.to(device)\n",
    "GNet.to(device)\n",
    "criterion.to(device)"
   ]
  },
  {
   "cell_type": "code",
   "execution_count": 6,
   "id": "9107f11a",
   "metadata": {},
   "outputs": [
    {
     "data": {
      "text/plain": [
       "Sequential(\n",
       "  (0): ConvTranspose2d(64, 256, kernel_size=(4, 4), stride=(1, 1), bias=False)\n",
       "  (1): ReLU()\n",
       "  (2): BatchNorm2d(256, eps=1e-05, momentum=0.1, affine=True, track_running_stats=True)\n",
       "  (3): ConvTranspose2d(256, 128, kernel_size=(4, 4), stride=(2, 2), padding=(1, 1), bias=False)\n",
       "  (4): ReLU()\n",
       "  (5): BatchNorm2d(128, eps=1e-05, momentum=0.1, affine=True, track_running_stats=True)\n",
       "  (6): ConvTranspose2d(128, 64, kernel_size=(4, 4), stride=(2, 2), padding=(1, 1), bias=False)\n",
       "  (7): ReLU()\n",
       "  (8): BatchNorm2d(64, eps=1e-05, momentum=0.1, affine=True, track_running_stats=True)\n",
       "  (9): ConvTranspose2d(64, 3, kernel_size=(4, 4), stride=(2, 2), padding=(1, 1))\n",
       ")"
      ]
     },
     "execution_count": 6,
     "metadata": {},
     "output_type": "execute_result"
    }
   ],
   "source": [
    "def weights_init(m):\n",
    "    if type(m) in [nn.Conv2d,nn.ConvTranspose2d]:\n",
    "        nn.init.xavier_normal_(m.weight)\n",
    "    elif type(m)==nn.BatchNorm2d:\n",
    "        nn.init.constant_(m.bias,0)\n",
    "        nn.init.normal_(m.weight,1.0,0.2)\n",
    "DNet.apply(weights_init)\n",
    "GNet.apply(weights_init)"
   ]
  },
  {
   "cell_type": "code",
   "execution_count": 8,
   "id": "e9e4c087",
   "metadata": {
    "scrolled": true
   },
   "outputs": [
    {
     "name": "stdout",
     "output_type": "stream",
     "text": [
      "Epoch 1: 6400/50048                    DLoss=0.15704606473445892 GLoss=2.8967294692993164 TP=0.9985477924346924 FP=0.13908635079860687\n",
      "Epoch 1: 12800/50048                    DLoss=0.018363824114203453 GLoss=4.7067389488220215 TP=0.9951010942459106 FP=0.01341303065419197\n",
      "Epoch 1: 19200/50048                    DLoss=1.5726850032806396 GLoss=0.36824649572372437 TP=0.2679170072078705 FP=0.25432127714157104\n",
      "Epoch 1: 25600/50048                    DLoss=0.2673996686935425 GLoss=2.382692813873291 TP=0.9601961374282837 FP=0.20907986164093018\n",
      "Epoch 1: 32000/50048                    DLoss=1.908254623413086 GLoss=0.2461148202419281 TP=0.2451159507036209 FP=0.6441898345947266\n",
      "Epoch 1: 38400/50048                    DLoss=0.39962679147720337 GLoss=3.0069031715393066 TP=0.8208999633789062 FP=0.16941089928150177\n",
      "Epoch 1: 44800/50048                    DLoss=0.5236822366714478 GLoss=2.851461410522461 TP=0.9175747632980347 FP=0.3593634068965912\n",
      "Epoch 2: 6400/50048                    DLoss=1.186704397201538 GLoss=5.762114524841309 TP=0.9655345678329468 FP=0.6976770162582397\n",
      "Epoch 2: 12800/50048                    DLoss=0.06578533351421356 GLoss=3.70509934425354 TP=0.9885457158088684 FP=0.05317174643278122\n",
      "Epoch 2: 19200/50048                    DLoss=1.7959238290786743 GLoss=3.466935396194458 TP=0.9622407555580139 FP=0.8401837944984436\n",
      "Epoch 2: 25600/50048                    DLoss=0.4353232979774475 GLoss=4.462522506713867 TP=0.9352589845657349 FP=0.32145264744758606\n",
      "Epoch 2: 32000/50048                    DLoss=1.5909886360168457 GLoss=2.145411968231201 TP=0.8082173466682434 FP=0.9062461256980896\n",
      "Epoch 2: 38400/50048                    DLoss=0.5080541968345642 GLoss=3.9904332160949707 TP=0.9583362936973572 FP=0.3831177055835724\n",
      "Epoch 2: 44800/50048                    DLoss=0.638837993144989 GLoss=2.584782123565674 TP=0.7423055171966553 FP=0.36579638719558716\n",
      "Epoch 3: 6400/50048                    DLoss=1.3791064023971558 GLoss=1.0570955276489258 TP=0.46758192777633667 FP=0.914800226688385\n",
      "Epoch 3: 12800/50048                    DLoss=1.3800578117370605 GLoss=1.1305888891220093 TP=0.5646989345550537 FP=0.9254128932952881\n",
      "Epoch 3: 19200/50048                    DLoss=1.4159417152404785 GLoss=0.9208084940910339 TP=0.49599793553352356 FP=0.9973309636116028\n",
      "Epoch 3: 25600/50048                    DLoss=1.1372946500778198 GLoss=1.089329481124878 TP=0.5739808678627014 FP=0.7448142170906067\n",
      "Epoch 3: 32000/50048                    DLoss=1.8662176132202148 GLoss=0.27617692947387695 TP=0.21439746022224426 FP=1.145940899848938\n",
      "Epoch 3: 38400/50048                    DLoss=1.5010544061660767 GLoss=0.6201199293136597 TP=0.379624605178833 FP=0.9230939745903015\n",
      "Epoch 3: 44800/50048                    DLoss=1.284507393836975 GLoss=0.8124165534973145 TP=0.49914973974227905 FP=0.8486400246620178\n",
      "Epoch 4: 6400/50048                    DLoss=1.3724370002746582 GLoss=1.1957828998565674 TP=0.49084970355033875 FP=0.960211455821991\n",
      "Epoch 4: 12800/50048                    DLoss=1.3825900554656982 GLoss=0.871860146522522 TP=0.5269522666931152 FP=0.9742077589035034\n",
      "Epoch 4: 19200/50048                    DLoss=1.5236247777938843 GLoss=0.5801239013671875 TP=0.3451225161552429 FP=1.0344326496124268\n",
      "Epoch 4: 25600/50048                    DLoss=1.3126554489135742 GLoss=1.299232840538025 TP=0.5648412704467773 FP=0.8841525912284851\n",
      "Epoch 4: 32000/50048                    DLoss=1.3695099353790283 GLoss=1.0884817838668823 TP=0.5798745155334473 FP=0.9520303010940552\n",
      "Epoch 4: 38400/50048                    DLoss=1.3080222606658936 GLoss=0.987166166305542 TP=0.4867055416107178 FP=0.8931525945663452\n",
      "Epoch 4: 44800/50048                    DLoss=1.1735713481903076 GLoss=0.9274682402610779 TP=0.53361976146698 FP=0.7623281478881836\n",
      "Epoch 5: 6400/50048                    DLoss=1.7998325824737549 GLoss=0.45616844296455383 TP=0.2209938019514084 FP=0.9917877912521362\n",
      "Epoch 5: 12800/50048                    DLoss=1.470327615737915 GLoss=0.909889817237854 TP=0.34359773993492126 FP=0.8817023038864136\n",
      "Epoch 5: 19200/50048                    DLoss=1.4070801734924316 GLoss=1.2732973098754883 TP=0.5747058391571045 FP=0.9749539494514465\n",
      "Epoch 5: 25600/50048                    DLoss=1.4675410985946655 GLoss=2.6818912029266357 TP=0.8417481780052185 FP=0.8478051424026489\n",
      "Epoch 5: 32000/50048                    DLoss=1.2166056632995605 GLoss=1.8163337707519531 TP=0.6214404106140137 FP=0.8138329386711121\n",
      "Epoch 5: 38400/50048                    DLoss=0.9591156244277954 GLoss=1.5730171203613281 TP=0.7076902389526367 FP=0.6278629899024963\n",
      "Epoch 5: 44800/50048                    DLoss=1.3763885498046875 GLoss=1.6130828857421875 TP=0.7076019048690796 FP=0.8904239535331726\n",
      "Epoch 6: 6400/50048                    DLoss=1.3072021007537842 GLoss=1.672092080116272 TP=0.6578572988510132 FP=0.8649676442146301\n",
      "Epoch 6: 12800/50048                    DLoss=0.9988548159599304 GLoss=1.2603580951690674 TP=0.6752844452857971 FP=0.6505315899848938\n",
      "Epoch 6: 19200/50048                    DLoss=1.2882285118103027 GLoss=1.5712671279907227 TP=0.4715559482574463 FP=0.8366340398788452\n",
      "Epoch 6: 25600/50048                    DLoss=1.1511870622634888 GLoss=1.2264031171798706 TP=0.5855721235275269 FP=0.7455476522445679\n",
      "Epoch 6: 32000/50048                    DLoss=1.048386812210083 GLoss=1.2994048595428467 TP=0.5407359600067139 FP=0.6015280485153198\n",
      "Epoch 6: 38400/50048                    DLoss=1.1078453063964844 GLoss=2.2009172439575195 TP=0.7062236666679382 FP=0.7195263504981995\n",
      "Epoch 6: 44800/50048                    DLoss=1.1520283222198486 GLoss=1.6467163562774658 TP=0.5049313306808472 FP=0.6443138718605042\n",
      "Epoch 7: 6400/50048                    DLoss=1.0182100534439087 GLoss=2.2069621086120605 TP=0.7647454142570496 FP=0.6662864089012146\n",
      "Epoch 7: 12800/50048                    DLoss=1.0245449542999268 GLoss=1.5669173002243042 TP=0.6951345205307007 FP=0.6531723737716675\n",
      "Epoch 7: 19200/50048                    DLoss=0.7948430776596069 GLoss=1.668220043182373 TP=0.5621978044509888 FP=0.298995703458786\n",
      "Epoch 7: 25600/50048                    DLoss=1.3455817699432373 GLoss=1.0859264135360718 TP=0.3307666778564453 FP=0.49181291460990906\n",
      "Epoch 7: 32000/50048                    DLoss=0.9456918835639954 GLoss=1.306125521659851 TP=0.47918927669525146 FP=0.32795360684394836\n",
      "Epoch 7: 38400/50048                    DLoss=1.0689783096313477 GLoss=1.5702526569366455 TP=0.604556143283844 FP=0.6568934321403503\n",
      "Epoch 7: 44800/50048                    DLoss=1.26034414768219 GLoss=1.248274564743042 TP=0.34955617785453796 FP=0.3480924367904663\n",
      "Epoch 8: 6400/50048                    DLoss=1.0096244812011719 GLoss=1.936318278312683 TP=0.67230224609375 FP=0.6077011823654175\n",
      "Epoch 8: 12800/50048                    DLoss=1.0271927118301392 GLoss=1.9581485986709595 TP=0.48699572682380676 FP=0.4336486756801605\n",
      "Epoch 8: 19200/50048                    DLoss=1.016202688217163 GLoss=2.606110095977783 TP=0.8094261884689331 FP=0.6601814031600952\n",
      "Epoch 8: 25600/50048                    DLoss=0.9501316547393799 GLoss=1.5942330360412598 TP=0.6308071613311768 FP=0.5693305730819702\n",
      "Epoch 8: 32000/50048                    DLoss=0.8388703465461731 GLoss=2.2611308097839355 TP=0.7527860999107361 FP=0.5344456434249878\n",
      "Epoch 8: 38400/50048                    DLoss=1.1465680599212646 GLoss=2.10308837890625 TP=0.6948076486587524 FP=0.7039601802825928\n",
      "Epoch 8: 44800/50048                    DLoss=0.982954204082489 GLoss=1.6648564338684082 TP=0.647302508354187 FP=0.5847410559654236\n",
      "Epoch 9: 6400/50048                    DLoss=1.3783609867095947 GLoss=3.851982593536377 TP=0.868976354598999 FP=0.7795146703720093\n",
      "Epoch 9: 12800/50048                    DLoss=1.2629094123840332 GLoss=2.478194236755371 TP=0.8537290096282959 FP=0.744097113609314\n",
      "Epoch 9: 19200/50048                    DLoss=0.9327317476272583 GLoss=1.5134527683258057 TP=0.6092693209648132 FP=0.5063521265983582\n",
      "Epoch 9: 25600/50048                    DLoss=1.1894307136535645 GLoss=2.0681376457214355 TP=0.6959190964698792 FP=0.7261918187141418\n",
      "Epoch 9: 32000/50048                    DLoss=1.0380442142486572 GLoss=2.3541457653045654 TP=0.7376527786254883 FP=0.630570113658905\n",
      "Epoch 9: 38400/50048                    DLoss=1.1550757884979248 GLoss=3.2244272232055664 TP=0.8373379707336426 FP=0.7040243148803711\n"
     ]
    },
    {
     "name": "stdout",
     "output_type": "stream",
     "text": [
      "Epoch 9: 44800/50048                    DLoss=1.307892084121704 GLoss=0.6049456000328064 TP=0.37242749333381653 FP=0.49521875381469727\n",
      "Epoch 10: 6400/50048                    DLoss=1.0001047849655151 GLoss=3.3033580780029297 TP=0.8246070146560669 FP=0.6121111512184143\n",
      "Epoch 10: 12800/50048                    DLoss=1.2356964349746704 GLoss=0.8209010362625122 TP=0.4245642423629761 FP=0.5328812599182129\n",
      "Epoch 10: 19200/50048                    DLoss=0.8028992414474487 GLoss=1.76851487159729 TP=0.6721650958061218 FP=0.43780067563056946\n",
      "Epoch 10: 25600/50048                    DLoss=1.445138931274414 GLoss=0.9265451431274414 TP=0.40053874254226685 FP=0.7606292963027954\n",
      "Epoch 10: 32000/50048                    DLoss=1.1730576753616333 GLoss=0.7719698548316956 TP=0.4203357696533203 FP=0.3666422665119171\n",
      "Epoch 10: 38400/50048                    DLoss=1.2327630519866943 GLoss=2.8511481285095215 TP=0.7189712524414062 FP=0.7518978714942932\n",
      "Epoch 10: 44800/50048                    DLoss=1.0527493953704834 GLoss=2.384866714477539 TP=0.7289791703224182 FP=0.6474296450614929\n"
     ]
    }
   ],
   "source": [
    "num_epochs = 10\n",
    "for epoch in range(num_epochs):\n",
    "    for batch_idx, data in enumerate(data_loader):\n",
    "        # DNet\n",
    "        ## positive\n",
    "        real_img,_=data\n",
    "        batch_size = real_img.size(0)\n",
    "        pos_label = torch.ones(batch_size)\n",
    "        real_img, pos_label = real_img.to(device), pos_label.to(device)\n",
    "        preds = DNet(real_img)\n",
    "        outputs = preds.view(-1)\n",
    "        dloss_real = criterion(outputs,pos_label)\n",
    "        dmean_real = preds.sigmoid().mean()\n",
    "        ## negative\n",
    "        neg_label = torch.zeros(batch_size)\n",
    "        noises = torch.randn(batch_size,latent_size,1,1)\n",
    "        noises = noises.to(device)\n",
    "        fake_img = GNet(noises)\n",
    "        fake_img_d = fake_img.detach()\n",
    "        fake_img_d, neg_label = fake_img_d.to(device), neg_label.to(device)\n",
    "        preds = DNet(fake_img_d)\n",
    "        outputs = preds.view(-1)\n",
    "        dloss_fake = criterion(outputs,neg_label)\n",
    "        dmean_fake = preds.sigmoid().mean()\n",
    "        dloss = dloss_fake+dloss_real\n",
    "        doptimizer.zero_grad()\n",
    "        dloss.backward()\n",
    "        doptimizer.step()\n",
    "        # GNet\n",
    "        pos_label = torch.ones(batch_size)\n",
    "        fake_img, pos_label = fake_img.to(device), pos_label.to(device)\n",
    "        preds = DNet(fake_img)\n",
    "        outputs = preds.view(-1)\n",
    "        gloss = criterion(outputs,pos_label)\n",
    "        gmean = preds.sigmoid().mean()\n",
    "        goptimizer.zero_grad()\n",
    "        gloss.backward()\n",
    "        goptimizer.step()\n",
    "        if (batch_idx+1)%100==0:\n",
    "            print(f'Epoch {epoch+1}: {(batch_idx+1)*batch_size}/{len(data_loader)*batch_size}\\\n",
    "                    DLoss={dloss.item()} GLoss={gloss.item()} TP={dmean_real} FP={dmean_fake/dmean_real}')"
   ]
  },
  {
   "cell_type": "code",
   "execution_count": null,
   "id": "ac630174",
   "metadata": {},
   "outputs": [],
   "source": []
  },
  {
   "cell_type": "code",
   "execution_count": null,
   "id": "1d6081d4",
   "metadata": {},
   "outputs": [],
   "source": []
  },
  {
   "cell_type": "code",
   "execution_count": null,
   "id": "65717c7a",
   "metadata": {},
   "outputs": [],
   "source": []
  }
 ],
 "metadata": {
  "kernelspec": {
   "display_name": "Python [conda env:aloha]",
   "language": "python",
   "name": "conda-env-aloha-py"
  },
  "language_info": {
   "codemirror_mode": {
    "name": "ipython",
    "version": 3
   },
   "file_extension": ".py",
   "mimetype": "text/x-python",
   "name": "python",
   "nbconvert_exporter": "python",
   "pygments_lexer": "ipython3",
   "version": "3.9.16"
  }
 },
 "nbformat": 4,
 "nbformat_minor": 5
}
