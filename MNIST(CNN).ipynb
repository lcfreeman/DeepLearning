{
 "cells": [
  {
   "cell_type": "code",
   "execution_count": 1,
   "id": "4205219e",
   "metadata": {},
   "outputs": [
    {
     "name": "stderr",
     "output_type": "stream",
     "text": [
      "/opt/anaconda3/envs/aloha/lib/python3.9/site-packages/torchvision/io/image.py:13: UserWarning: Failed to load image Python extension: 'dlopen(/opt/anaconda3/envs/aloha/lib/python3.9/site-packages/torchvision/image.so, 0x0006): Symbol not found: (__ZN3c1017RegisterOperatorsD1Ev)\n",
      "  Referenced from: '/opt/anaconda3/envs/aloha/lib/python3.9/site-packages/torchvision/image.so'\n",
      "  Expected in: '/opt/anaconda3/envs/aloha/lib/python3.9/site-packages/torch/lib/libtorch_cpu.dylib''If you don't plan on using image functionality from `torchvision.io`, you can ignore this warning. Otherwise, there might be something wrong with your environment. Did you have `libjpeg` or `libpng` installed before building `torchvision` from source?\n",
      "  warn(\n"
     ]
    }
   ],
   "source": [
    "import torch\n",
    "import torch.nn as nn\n",
    "import torch.optim as optim\n",
    "from torch.utils.tensorboard import SummaryWriter\n",
    "from torch.utils.data import DataLoader,Dataset\n",
    "from torchvision import models,datasets,transforms"
   ]
  },
  {
   "cell_type": "code",
   "execution_count": 2,
   "id": "37b659b0",
   "metadata": {},
   "outputs": [],
   "source": [
    "device = torch.device('mps' if torch.backends.mps.is_available() else 'cpu')"
   ]
  },
  {
   "cell_type": "code",
   "execution_count": 3,
   "id": "95e3e656",
   "metadata": {},
   "outputs": [],
   "source": [
    "batch_size = 100\n",
    "train_data = datasets.MNIST(root='./data/',train=True,transform=transforms.ToTensor(),download=False)\n",
    "test_data = datasets.MNIST(root='./data/',train=False,transform=transforms.ToTensor(),download=False)\n",
    "train_loader = DataLoader(dataset=train_data,batch_size=batch_size,shuffle=True)\n",
    "test_loader = DataLoader(dataset=test_data,batch_size=batch_size,shuffle=False)"
   ]
  },
  {
   "cell_type": "code",
   "execution_count": 4,
   "id": "9140c3c4",
   "metadata": {},
   "outputs": [],
   "source": [
    "class Net(nn.Module):\n",
    "    def __init__(self):\n",
    "        super(Net,self).__init__()\n",
    "        self.conv1 = nn.Sequential(nn.Conv2d(1,64,kernel_size=3,padding=1),\n",
    "                                   nn.ReLU(),\n",
    "                                   nn.Conv2d(64,128,kernel_size=3,padding=1),\n",
    "                                   nn.ReLU(),\n",
    "                                   nn.MaxPool2d(kernel_size=2,stride=2))\n",
    "        self.fc = nn.Sequential(nn.Linear(128*14*14,1024),\n",
    "                                nn.ReLU(),\n",
    "                                nn.Dropout(p=0.5),\n",
    "                                nn.Linear(1024,10))\n",
    "    def forward(self,X):\n",
    "        X = self.conv1(X)\n",
    "        X = X.view(-1,128*14*14)\n",
    "        X = self.fc(X)\n",
    "        return X"
   ]
  },
  {
   "cell_type": "code",
   "execution_count": 5,
   "id": "8caf1175",
   "metadata": {},
   "outputs": [
    {
     "data": {
      "text/plain": [
       "CrossEntropyLoss()"
      ]
     },
     "execution_count": 5,
     "metadata": {},
     "output_type": "execute_result"
    }
   ],
   "source": [
    "model = Net()\n",
    "optimizer = optim.Adam(model.parameters(),lr=0.001)\n",
    "criterion = nn.CrossEntropyLoss()\n",
    "model.to(device)\n",
    "criterion.to(device)"
   ]
  },
  {
   "cell_type": "code",
   "execution_count": 18,
   "id": "58a4f520",
   "metadata": {},
   "outputs": [
    {
     "data": {
      "text/plain": [
       "tensor([7.3876e-05, 3.6528e-08, 4.6603e-06, 1.0847e-03, 6.0481e-08, 9.9870e-01,\n",
       "        4.5019e-06, 6.8175e-06, 1.1494e-04, 7.8394e-06], device='mps:0',\n",
       "       grad_fn=<SoftmaxBackward0>)"
      ]
     },
     "execution_count": 18,
     "metadata": {},
     "output_type": "execute_result"
    }
   ],
   "source": [
    "output[:10][0].softmax(dim=-1)"
   ]
  },
  {
   "cell_type": "code",
   "execution_count": 8,
   "id": "a11b2f04",
   "metadata": {},
   "outputs": [
    {
     "data": {
      "text/plain": [
       "tensor([5, 1, 0, 0, 7, 8, 5, 1, 3, 0], device='mps:0')"
      ]
     },
     "execution_count": 8,
     "metadata": {},
     "output_type": "execute_result"
    }
   ],
   "source": [
    "label[:10]"
   ]
  },
  {
   "cell_type": "code",
   "execution_count": 6,
   "id": "b5635e67",
   "metadata": {
    "scrolled": true
   },
   "outputs": [
    {
     "name": "stdout",
     "output_type": "stream",
     "text": [
      "Epoch 1: lr=0.001 1000/60000                     train_loss: 1.1865397691726685\n",
      "Epoch 1: lr=0.001 2000/60000                     train_loss: 0.5906389355659485\n",
      "Epoch 1: lr=0.001 3000/60000                     train_loss: 0.5485586524009705\n",
      "Epoch 1: lr=0.001 4000/60000                     train_loss: 0.5059179067611694\n",
      "Epoch 1: lr=0.001 5000/60000                     train_loss: 0.30246537923812866\n",
      "Epoch 1: lr=0.001 6000/60000                     train_loss: 0.4741373360157013\n",
      "Epoch 1: lr=0.001 7000/60000                     train_loss: 0.20468351244926453\n",
      "Epoch 1: lr=0.001 8000/60000                     train_loss: 0.2261902391910553\n",
      "Epoch 1: lr=0.001 9000/60000                     train_loss: 0.1321466565132141\n"
     ]
    },
    {
     "ename": "KeyboardInterrupt",
     "evalue": "",
     "output_type": "error",
     "traceback": [
      "\u001b[0;31m---------------------------------------------------------------------------\u001b[0m",
      "\u001b[0;31mKeyboardInterrupt\u001b[0m                         Traceback (most recent call last)",
      "Cell \u001b[0;32mIn[6], line 11\u001b[0m\n\u001b[1;32m      9\u001b[0m output \u001b[38;5;241m=\u001b[39m model(img)\n\u001b[1;32m     10\u001b[0m train_loss \u001b[38;5;241m=\u001b[39m criterion(output, label)\n\u001b[0;32m---> 11\u001b[0m \u001b[43mtrain_loss\u001b[49m\u001b[38;5;241;43m.\u001b[39;49m\u001b[43mbackward\u001b[49m\u001b[43m(\u001b[49m\u001b[43m)\u001b[49m\n\u001b[1;32m     12\u001b[0m optimizer\u001b[38;5;241m.\u001b[39mstep()\n\u001b[1;32m     13\u001b[0m \u001b[38;5;28;01mif\u001b[39;00m (batch_idx\u001b[38;5;241m+\u001b[39m\u001b[38;5;241m1\u001b[39m)\u001b[38;5;241m*\u001b[39mbatch_size \u001b[38;5;241m%\u001b[39m \u001b[38;5;241m1000\u001b[39m \u001b[38;5;241m==\u001b[39m \u001b[38;5;241m0\u001b[39m:\n",
      "File \u001b[0;32m/opt/anaconda3/envs/aloha/lib/python3.9/site-packages/torch/_tensor.py:521\u001b[0m, in \u001b[0;36mTensor.backward\u001b[0;34m(self, gradient, retain_graph, create_graph, inputs)\u001b[0m\n\u001b[1;32m    511\u001b[0m \u001b[38;5;28;01mif\u001b[39;00m has_torch_function_unary(\u001b[38;5;28mself\u001b[39m):\n\u001b[1;32m    512\u001b[0m     \u001b[38;5;28;01mreturn\u001b[39;00m handle_torch_function(\n\u001b[1;32m    513\u001b[0m         Tensor\u001b[38;5;241m.\u001b[39mbackward,\n\u001b[1;32m    514\u001b[0m         (\u001b[38;5;28mself\u001b[39m,),\n\u001b[0;32m   (...)\u001b[0m\n\u001b[1;32m    519\u001b[0m         inputs\u001b[38;5;241m=\u001b[39minputs,\n\u001b[1;32m    520\u001b[0m     )\n\u001b[0;32m--> 521\u001b[0m \u001b[43mtorch\u001b[49m\u001b[38;5;241;43m.\u001b[39;49m\u001b[43mautograd\u001b[49m\u001b[38;5;241;43m.\u001b[39;49m\u001b[43mbackward\u001b[49m\u001b[43m(\u001b[49m\n\u001b[1;32m    522\u001b[0m \u001b[43m    \u001b[49m\u001b[38;5;28;43mself\u001b[39;49m\u001b[43m,\u001b[49m\u001b[43m \u001b[49m\u001b[43mgradient\u001b[49m\u001b[43m,\u001b[49m\u001b[43m \u001b[49m\u001b[43mretain_graph\u001b[49m\u001b[43m,\u001b[49m\u001b[43m \u001b[49m\u001b[43mcreate_graph\u001b[49m\u001b[43m,\u001b[49m\u001b[43m \u001b[49m\u001b[43minputs\u001b[49m\u001b[38;5;241;43m=\u001b[39;49m\u001b[43minputs\u001b[49m\n\u001b[1;32m    523\u001b[0m \u001b[43m\u001b[49m\u001b[43m)\u001b[49m\n",
      "File \u001b[0;32m/opt/anaconda3/envs/aloha/lib/python3.9/site-packages/torch/autograd/__init__.py:289\u001b[0m, in \u001b[0;36mbackward\u001b[0;34m(tensors, grad_tensors, retain_graph, create_graph, grad_variables, inputs)\u001b[0m\n\u001b[1;32m    284\u001b[0m     retain_graph \u001b[38;5;241m=\u001b[39m create_graph\n\u001b[1;32m    286\u001b[0m \u001b[38;5;66;03m# The reason we repeat the same comment below is that\u001b[39;00m\n\u001b[1;32m    287\u001b[0m \u001b[38;5;66;03m# some Python versions print out the first line of a multi-line function\u001b[39;00m\n\u001b[1;32m    288\u001b[0m \u001b[38;5;66;03m# calls in the traceback and some print out the last line\u001b[39;00m\n\u001b[0;32m--> 289\u001b[0m \u001b[43m_engine_run_backward\u001b[49m\u001b[43m(\u001b[49m\n\u001b[1;32m    290\u001b[0m \u001b[43m    \u001b[49m\u001b[43mtensors\u001b[49m\u001b[43m,\u001b[49m\n\u001b[1;32m    291\u001b[0m \u001b[43m    \u001b[49m\u001b[43mgrad_tensors_\u001b[49m\u001b[43m,\u001b[49m\n\u001b[1;32m    292\u001b[0m \u001b[43m    \u001b[49m\u001b[43mretain_graph\u001b[49m\u001b[43m,\u001b[49m\n\u001b[1;32m    293\u001b[0m \u001b[43m    \u001b[49m\u001b[43mcreate_graph\u001b[49m\u001b[43m,\u001b[49m\n\u001b[1;32m    294\u001b[0m \u001b[43m    \u001b[49m\u001b[43minputs\u001b[49m\u001b[43m,\u001b[49m\n\u001b[1;32m    295\u001b[0m \u001b[43m    \u001b[49m\u001b[43mallow_unreachable\u001b[49m\u001b[38;5;241;43m=\u001b[39;49m\u001b[38;5;28;43;01mTrue\u001b[39;49;00m\u001b[43m,\u001b[49m\n\u001b[1;32m    296\u001b[0m \u001b[43m    \u001b[49m\u001b[43maccumulate_grad\u001b[49m\u001b[38;5;241;43m=\u001b[39;49m\u001b[38;5;28;43;01mTrue\u001b[39;49;00m\u001b[43m,\u001b[49m\n\u001b[1;32m    297\u001b[0m \u001b[43m\u001b[49m\u001b[43m)\u001b[49m\n",
      "File \u001b[0;32m/opt/anaconda3/envs/aloha/lib/python3.9/site-packages/torch/autograd/graph.py:768\u001b[0m, in \u001b[0;36m_engine_run_backward\u001b[0;34m(t_outputs, *args, **kwargs)\u001b[0m\n\u001b[1;32m    766\u001b[0m     unregister_hooks \u001b[38;5;241m=\u001b[39m _register_logging_hooks_on_whole_graph(t_outputs)\n\u001b[1;32m    767\u001b[0m \u001b[38;5;28;01mtry\u001b[39;00m:\n\u001b[0;32m--> 768\u001b[0m     \u001b[38;5;28;01mreturn\u001b[39;00m \u001b[43mVariable\u001b[49m\u001b[38;5;241;43m.\u001b[39;49m\u001b[43m_execution_engine\u001b[49m\u001b[38;5;241;43m.\u001b[39;49m\u001b[43mrun_backward\u001b[49m\u001b[43m(\u001b[49m\u001b[43m  \u001b[49m\u001b[38;5;66;43;03m# Calls into the C++ engine to run the backward pass\u001b[39;49;00m\n\u001b[1;32m    769\u001b[0m \u001b[43m        \u001b[49m\u001b[43mt_outputs\u001b[49m\u001b[43m,\u001b[49m\u001b[43m \u001b[49m\u001b[38;5;241;43m*\u001b[39;49m\u001b[43margs\u001b[49m\u001b[43m,\u001b[49m\u001b[43m \u001b[49m\u001b[38;5;241;43m*\u001b[39;49m\u001b[38;5;241;43m*\u001b[39;49m\u001b[43mkwargs\u001b[49m\n\u001b[1;32m    770\u001b[0m \u001b[43m    \u001b[49m\u001b[43m)\u001b[49m  \u001b[38;5;66;03m# Calls into the C++ engine to run the backward pass\u001b[39;00m\n\u001b[1;32m    771\u001b[0m \u001b[38;5;28;01mfinally\u001b[39;00m:\n\u001b[1;32m    772\u001b[0m     \u001b[38;5;28;01mif\u001b[39;00m attach_logging_hooks:\n",
      "\u001b[0;31mKeyboardInterrupt\u001b[0m: "
     ]
    }
   ],
   "source": [
    "epoch_nums = 5\n",
    "#writer = SummaryWriter(log_dir='log')\n",
    "scheduler = optim.lr_scheduler.StepLR(optimizer,step_size=10,gamma=0.1)\n",
    "for epoch in range(epoch_nums):\n",
    "    # train\n",
    "    for batch_idx, (img, label) in enumerate(train_loader):\n",
    "        img, label = img.to(device), label.to(device)\n",
    "        optimizer.zero_grad()\n",
    "        output = model(img)\n",
    "        train_loss = criterion(output, label)\n",
    "        train_loss.backward()\n",
    "        optimizer.step()\n",
    "        if (batch_idx+1)*batch_size % 1000 == 0:\n",
    "            for param_group in optimizer.param_groups:\n",
    "                current_lr = param_group['lr']\n",
    "            print(f'Epoch {epoch+1}: lr={current_lr} {(batch_idx+1)*batch_size}/{batch_size*len(train_loader)} \\\n",
    "                    train_loss: {train_loss.item()}')\n",
    "    writer.add_scalar('Loss/train', train_loss.item(), epoch)\n",
    "    scheduler.step()\n",
    "    # test\n",
    "    total_loss, total_acc = 0, 0\n",
    "    model.eval()\n",
    "    with torch.no_grad():\n",
    "        for img, label in test_loader:\n",
    "            img, label = img.to(device), label.to(device)\n",
    "            output = model(img)\n",
    "            test_loss = criterion(output,label)\n",
    "            pred = output.argmax(dim=1)\n",
    "            total_loss += test_loss.item()\n",
    "            total_acc += pred.eq(label.view_as(pred)).sum().item()\n",
    "    print(f'Epoch {epoch+1}: lr={current_lr} test_loss={total_loss/len(test_loader)} test_acc={total_acc/len(test_loader)}')\n",
    "    writer.add_scalar('Loss/test', test_loss.item(), epoch)        \n",
    "            "
   ]
  },
  {
   "cell_type": "code",
   "execution_count": 7,
   "id": "354808dc",
   "metadata": {},
   "outputs": [
    {
     "data": {
      "text/plain": [
       "Net(\n",
       "  (conv1): Sequential(\n",
       "    (0): Conv2d(1, 64, kernel_size=(3, 3), stride=(1, 1), padding=(1, 1))\n",
       "    (1): ReLU()\n",
       "    (2): Conv2d(64, 128, kernel_size=(3, 3), stride=(1, 1), padding=(1, 1))\n",
       "    (3): ReLU()\n",
       "    (4): MaxPool2d(kernel_size=2, stride=2, padding=0, dilation=1, ceil_mode=False)\n",
       "  )\n",
       "  (fc): Sequential(\n",
       "    (0): Linear(in_features=25088, out_features=1024, bias=True)\n",
       "    (1): ReLU()\n",
       "    (2): Dropout(p=0.5, inplace=False)\n",
       "    (3): Linear(in_features=1024, out_features=10, bias=True)\n",
       "  )\n",
       ")"
      ]
     },
     "execution_count": 7,
     "metadata": {},
     "output_type": "execute_result"
    }
   ],
   "source": [
    "torch.save(model.state_dict(), 'MNISTmodel5.pth')\n",
    "model = Net()\n",
    "model.load_state_dict(torch.load('MNISTmodel5.pth'))\n",
    "model.to(device)"
   ]
  },
  {
   "cell_type": "code",
   "execution_count": 12,
   "id": "72155fa8",
   "metadata": {
    "scrolled": true
   },
   "outputs": [
    {
     "name": "stdout",
     "output_type": "stream",
     "text": [
      "conv1.weight is frozen.\n",
      "conv1.bias is frozen.\n",
      "bn1.weight is frozen.\n",
      "bn1.bias is frozen.\n",
      "layer1.0.conv1.weight is frozen.\n",
      "layer1.0.bn1.weight is frozen.\n",
      "layer1.0.bn1.bias is frozen.\n",
      "layer1.0.conv2.weight is frozen.\n",
      "layer1.0.bn2.weight is frozen.\n",
      "layer1.0.bn2.bias is frozen.\n",
      "layer1.1.conv1.weight is frozen.\n",
      "layer1.1.bn1.weight is frozen.\n",
      "layer1.1.bn1.bias is frozen.\n",
      "layer1.1.conv2.weight is frozen.\n",
      "layer1.1.bn2.weight is frozen.\n",
      "layer1.1.bn2.bias is frozen.\n",
      "layer2.0.conv1.weight is frozen.\n",
      "layer2.0.bn1.weight is frozen.\n",
      "layer2.0.bn1.bias is frozen.\n",
      "layer2.0.conv2.weight is frozen.\n",
      "layer2.0.bn2.weight is frozen.\n",
      "layer2.0.bn2.bias is frozen.\n",
      "layer2.0.downsample.0.weight is frozen.\n",
      "layer2.0.downsample.1.weight is frozen.\n",
      "layer2.0.downsample.1.bias is frozen.\n",
      "layer2.1.conv1.weight is frozen.\n",
      "layer2.1.bn1.weight is frozen.\n",
      "layer2.1.bn1.bias is frozen.\n",
      "layer2.1.conv2.weight is frozen.\n",
      "layer2.1.bn2.weight is frozen.\n",
      "layer2.1.bn2.bias is frozen.\n",
      "layer3.0.conv1.weight is frozen.\n",
      "layer3.0.bn1.weight is frozen.\n",
      "layer3.0.bn1.bias is frozen.\n",
      "layer3.0.conv2.weight is frozen.\n",
      "layer3.0.bn2.weight is frozen.\n",
      "layer3.0.bn2.bias is frozen.\n",
      "layer3.0.downsample.0.weight is frozen.\n",
      "layer3.0.downsample.1.weight is frozen.\n",
      "layer3.0.downsample.1.bias is frozen.\n",
      "layer3.1.conv1.weight is frozen.\n",
      "layer3.1.bn1.weight is frozen.\n",
      "layer3.1.bn1.bias is frozen.\n",
      "layer3.1.conv2.weight is frozen.\n",
      "layer3.1.bn2.weight is frozen.\n",
      "layer3.1.bn2.bias is frozen.\n",
      "layer4.0.conv1.weight is frozen.\n",
      "layer4.0.bn1.weight is frozen.\n",
      "layer4.0.bn1.bias is frozen.\n",
      "layer4.0.conv2.weight is frozen.\n",
      "layer4.0.bn2.weight is frozen.\n",
      "layer4.0.bn2.bias is frozen.\n",
      "layer4.0.downsample.0.weight is frozen.\n",
      "layer4.0.downsample.1.weight is frozen.\n",
      "layer4.0.downsample.1.bias is frozen.\n",
      "layer4.1.conv1.weight is frozen.\n",
      "layer4.1.bn1.weight is frozen.\n",
      "layer4.1.bn1.bias is frozen.\n",
      "layer4.1.conv2.weight is frozen.\n",
      "layer4.1.bn2.weight is frozen.\n",
      "layer4.1.bn2.bias is frozen.\n",
      "fc.weight is trainable.\n",
      "fc.bias is trainable.\n"
     ]
    }
   ],
   "source": [
    "# 引入预训练模型\n",
    "pretrained_model_path = '/pretrainedmodel/resnet18-f37072fd.pth'\n",
    "# 加载模型\n",
    "state_dict = torch.load(pretrained_model_path)\n",
    "\n",
    "resnet = models.resnet18()\n",
    "resnet.load_state_dict(state_dict)\n",
    "resnet.conv1 = nn.Conv2d(1, 64, kernel_size=3, padding=1)\n",
    "for param in resnet.parameters():\n",
    "    param.requires_grad = False\n",
    "num_classes = 10   \n",
    "resnet.fc = nn.Linear(resnet.fc.in_features, num_classes)\n",
    "for param in resnet.fc.parameters():\n",
    "    param.requires_grad = True\n",
    "    \n",
    "for name, param in resnet.named_parameters():\n",
    "    if param.requires_grad:\n",
    "        print(f\"{name} is trainable.\")\n",
    "    else:\n",
    "        print(f\"{name} is frozen.\")\n",
    "model = resnet"
   ]
  },
  {
   "cell_type": "code",
   "execution_count": null,
   "id": "138aa373",
   "metadata": {},
   "outputs": [],
   "source": []
  }
 ],
 "metadata": {
  "kernelspec": {
   "display_name": "Python [conda env:aloha]",
   "language": "python",
   "name": "conda-env-aloha-py"
  },
  "language_info": {
   "codemirror_mode": {
    "name": "ipython",
    "version": 3
   },
   "file_extension": ".py",
   "mimetype": "text/x-python",
   "name": "python",
   "nbconvert_exporter": "python",
   "pygments_lexer": "ipython3",
   "version": "3.9.16"
  }
 },
 "nbformat": 4,
 "nbformat_minor": 5
}
